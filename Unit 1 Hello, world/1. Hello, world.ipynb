{
 "cells": [
  {
   "cell_type": "markdown",
   "metadata": {},
   "source": [
    "# Python Tutorial\n",
    "# Unit 1 Lesson 1: *Hello, world*"
   ]
  },
  {
   "cell_type": "markdown",
   "metadata": {},
   "source": [
    "## Abstract\n",
    "This lesson will teach you the first program of Python, and some knowledges of Python."
   ]
  },
  {
   "cell_type": "markdown",
   "metadata": {},
   "source": [
    "## Python\n",
    "\n",
    "### Introduction\n",
    "\n",
    "![](https://www.runoob.com/wp-content/uploads/2014/05/python3.png) ![](https://replit.com/cdn-cgi/image/width%3D1920%2Cquality%3D80%2Cformat%3Dauto/https%3A//storage.googleapis.com/replit/images/1664475603315_1442b3c69cc612aff6ef60cce0c69328.jpeg)\n",
    "\n",
    "Python 3, the most popular language in the world. It is also called 'Python 3000' or 'Py3k'.    \n",
    "It is a big update on Python 2, so if you are using Python 2, please go to [Python.org](https://www.python.org/) to download and install the 3 version.\n",
    "\n",
    "### Check the version\n",
    "\n",
    "Type these in `bash(On Linux)` or `cmd(On Windows)`\n",
    "```bash\n",
    "python -V\n",
    "```\n",
    "or:\n",
    "```bash\n",
    "python -version\n",
    "```\n",
    "\n",
    "It should be `Python 3.10.7` for latest version.    \n",
    "But if your output is `Python 3.x.x` (`x` is a number), you can also run Python 3."
   ]
  },
  {
   "cell_type": "markdown",
   "metadata": {},
   "source": [
    "## Interactive Coding\n",
    "Type:\n",
    "```bash\n",
    "python\n",
    "```\n",
    "to goto Python's Interactive Coding mode.    \n",
    "It should be this:\n",
    "```bash\n",
    "Python 3.10.7 (xxx) [xxx] on xxx\n",
    "Type \"copyright\", \"credits\" or \"license()\" for more information.\n",
    ">>>\n",
    "```"
   ]
  }
 ],
 "metadata": {
  "language_info": {
   "name": "python"
  },
  "orig_nbformat": 4
 },
 "nbformat": 4,
 "nbformat_minor": 2
}
